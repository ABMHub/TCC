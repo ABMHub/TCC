{
 "cells": [
  {
   "cell_type": "code",
   "execution_count": 6,
   "metadata": {},
   "outputs": [
    {
     "name": "stderr",
     "output_type": "stream",
     "text": [
      "[mpeg1video @ 0x6cb41c0] ac-tex damaged at 19 10\n",
      "[mpeg1video @ 0x6cb41c0] Warning MVs not available\n"
     ]
    }
   ],
   "source": [
    "input_video = \"images/bbaf2n.mpg\"\n",
    "\n",
    "import cv2\n",
    "\n",
    "v = cv2.VideoCapture(input_video)\n",
    "i = 0\n",
    "while v.isOpened():\n",
    "  _, frame = v.read()\n",
    "  if frame is None: break\n",
    "  cv2.imwrite(f\"videos/grid_example/grid-{i}.jpg\", frame)\n",
    "  i+=1"
   ]
  },
  {
   "cell_type": "code",
   "execution_count": 1,
   "metadata": {},
   "outputs": [],
   "source": [
    "from matplotlib import pyplot as plt\n",
    "import cv2\n",
    "\n",
    "def show_figures(imgs, name = None, tiny_subimage = True):\n",
    "  qtd = len(imgs)\n",
    "  if qtd == 2 and tiny_subimage:\n",
    "    fig, axs = plt.subplots(1,2,figsize=(15,10), gridspec_kw={'width_ratios': [2, 1]})\n",
    "    for i in range(qtd):\n",
    "      axs[i].axis(\"off\")\n",
    "      axs[i].imshow(cv2.cvtColor(imgs[i], cv2.COLOR_BGR2RGB))\n",
    "    fig.savefig(name, bbox_inches='tight')\n",
    "    plt.close()\n",
    "  else:\n",
    "    assert qtd > 0, \"ta de sacanagem ne\"\n",
    "    plt.figure(figsize=(10*qtd, 10))\n",
    "    for i in range(len(imgs)):\n",
    "      plt.subplot(1, qtd, i+1)\n",
    "      plt.axis(\"off\")\n",
    "      plt.imshow(cv2.cvtColor(imgs[i], cv2.COLOR_BGR2RGB))\n",
    "    plt.savefig(name, bbox_inches='tight')\n",
    "    plt.close()\n",
    "\n",
    "import numpy as np\n",
    "\n",
    "def draw_triangle(frame, points):\n",
    "  x = lambda a: (int(a[0]), int(a[1]))\n",
    "  triangle1 = frame.copy()\n",
    "  mid_eyes = np.mean([points[0][0], points[1][0]]), np.mean([points[0][1], points[1][1]])\n",
    "  cv2.circle(triangle1, x(points[0]), 5, (255, 0, 0), 10)\n",
    "  cv2.circle(triangle1, x(points[1]), 5, (255, 0, 0), 10)\n",
    "  cv2.circle(triangle1, x(points[2]), 5, (255, 0, 0), 10)\n",
    "  triangle2 = triangle1.copy()\n",
    "  cv2.circle(triangle2, x(mid_eyes), 5, (255, 0, 0), 10)\n",
    "  cv2.line(triangle2, x(points[0]), x(points[1]), (255, 0, 0), 2)\n",
    "  triangle3 = triangle2.copy()\n",
    "  cv2.line(triangle3, x(mid_eyes), x(points[2]), (255, 0, 0), 2)\n",
    "\n",
    "  return triangle1, triangle2, triangle3"
   ]
  },
  {
   "cell_type": "code",
   "execution_count": 2,
   "metadata": {},
   "outputs": [],
   "source": [
    "import cv2\n",
    "from preprocessing.mouth_extraction import FaceFrame\n",
    "\n",
    "input_video = \"images/bbac5n.mpg\"\n",
    "\n",
    "j = 0\n",
    "v = cv2.VideoCapture(input_video)\n",
    "while v.isOpened():\n",
    "  _, frame = v.read()\n",
    "  if frame is None: break\n",
    "\n",
    "  f_obj = FaceFrame(frame)\n",
    "\n",
    "  circles = frame.copy()\n",
    "\n",
    "  for i in range(len(f_obj.lm)):\n",
    "    if i in list(range(36, 68)):\n",
    "      cv2.circle(circles, f_obj.lm[i], 5, (255, 0, 0), 1)\n",
    "      \n",
    "    else:\n",
    "      cv2.circle(circles, f_obj.lm[i], 5, (100, 255, 0), 1)\n",
    "    \n",
    "  l_eye, r_eye, mouth = [f_obj.l_eye, f_obj.r_eye, f_obj.mouth]\n",
    "\n",
    "  _, _, centers = draw_triangle(frame, [l_eye, r_eye, mouth])\n",
    "\n",
    "  f_obj.transform()\n",
    "\n",
    "  _, _, affine = draw_triangle(f_obj.img, [f_obj.l_eye, f_obj.r_eye, f_obj.mouth])\n",
    "\n",
    "  mouth_crop = f_obj.get_mouth_img(70, \"crop\")\n",
    "  temp_resize = f_obj.get_mouth_img(70, \"resize\")\n",
    "  mouth_resize = cv2.resize(temp_resize, (100, 50))\n",
    "\n",
    "  m = [int(i) for i in f_obj.mouth]\n",
    "  tl = m[0]-70, m[1]-70//2\n",
    "  br = m[0]+70, m[1]+70//2\n",
    "  temp = f_obj.img.copy()\n",
    "  square_crop = cv2.rectangle(temp, tl, br, (255, 0, 0))\n",
    "\n",
    "  tl, br = f_obj.get_mouth_corners()\n",
    "  temp = f_obj.img.copy()\n",
    "  square_resize = cv2.rectangle(temp, tl, br, (255, 0, 0))\n",
    "\n",
    "  show_figures([frame], f\"videos/preproc_1_base/base-{j}.jpg\")\n",
    "  show_figures([circles], f\"videos/preproc_2_roi/roi-{j}.jpg\")\n",
    "  show_figures([centers], f\"videos/preproc_3_centers/centers-{j}.jpg\")\n",
    "  show_figures([centers, affine], f\"videos/preproc_4_affine/affine-{j}.jpg\", False)\n",
    "  show_figures([square_crop, mouth_crop], f\"videos/preproc_5_crop/crop-{j}.jpg\")\n",
    "  show_figures([square_resize, mouth_resize], f\"videos/preproc_6_resize/resize-{j}.jpg\")\n",
    "\n",
    "  j+=1"
   ]
  },
  {
   "cell_type": "code",
   "execution_count": 10,
   "metadata": {},
   "outputs": [],
   "source": [
    "v = cv2.VideoCapture(input_video)\n",
    "_, frame = v.read()\n",
    "f_obj = FaceFrame(frame)\n",
    "\n",
    "t1, t2, t3 = draw_triangle(f_obj.img, [f_obj.l_eye, f_obj.r_eye, f_obj.mouth])\n",
    "\n",
    "show_figures([t1], f\"images/constructing_triangle_1.jpg\")\n",
    "show_figures([t2], f\"images/constructing_triangle_2.jpg\")\n",
    "show_figures([t3], f\"images/constructing_triangle_3.jpg\")"
   ]
  }
 ],
 "metadata": {
  "kernelspec": {
   "display_name": "tcc",
   "language": "python",
   "name": "python3"
  },
  "language_info": {
   "codemirror_mode": {
    "name": "ipython",
    "version": 3
   },
   "file_extension": ".py",
   "mimetype": "text/x-python",
   "name": "python",
   "nbconvert_exporter": "python",
   "pygments_lexer": "ipython3",
   "version": "3.9.13"
  },
  "orig_nbformat": 4
 },
 "nbformat": 4,
 "nbformat_minor": 2
}
